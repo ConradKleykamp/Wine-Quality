{
 "cells": [
  {
   "cell_type": "markdown",
   "id": "e16327d8",
   "metadata": {
    "papermill": {
     "duration": 0.018855,
     "end_time": "2023-06-13T19:47:17.551382",
     "exception": false,
     "start_time": "2023-06-13T19:47:17.532527",
     "status": "completed"
    },
    "tags": []
   },
   "source": [
    "# **Wine Quality Prediction Using Machine Learning**\n",
    "\n",
    "This project will utilize and compare various machine learning approaches on predicting the quality of red variants of the Portuguese \"Vinho Verde\" wine based upon 11 physicochemical characteristics. More specifically, this project presents a binary classification task, where the models will predict whether a wine is 'good' or 'bad' based upon its features. The performance of the models will be compared to determine the most effective machine learning strategy. \n",
    "\n",
    "Table of Contents:\n",
    "* [About the Data](#about_the_data)\n",
    "* [Set Up / Cleaning](#set_up)\n",
    "* [Exploratory Data Analysis](#eda)\n",
    "    - [Histograms](#hist)\n",
    "    - [Correlation Matrix](#correlation_matrix)\n",
    "    - [Bar Plots](#bar_plot)\n",
    "    - [Summary of Analysis](#summary_analysis)\n",
    "* [Applying Machine Learning](#ml)\n",
    "    - [Set Up](#processing)\n",
    "    - [Logistic Regression](#logistic_regression)\n",
    "    - [Random Forest](#random_forest)\n",
    "    - [K-Nearest Neighbors](#knn)\n",
    "    - [Support Vector Classifier](#svc)\n",
    "* [Model Improvements](#model_improvements)\n",
    "    - [Random Forest with GridSearchCV](#random_cross)\n",
    "    - [KNN with Cross Validation](#knn_cross)\n",
    "    - [SVC with GridSearchCV](#grid_search)\n",
    "* [Conclusion](#conclusion)\n",
    "* [Thank you!](#thanks)\n"
   ]
  },
  {
   "cell_type": "markdown",
   "id": "1e4fe466",
   "metadata": {
    "papermill": {
     "duration": 0.017854,
     "end_time": "2023-06-13T19:47:17.587437",
     "exception": false,
     "start_time": "2023-06-13T19:47:17.569583",
     "status": "completed"
    },
    "tags": []
   },
   "source": [
    "<a id=\"about_the_data\"></a>\n",
    "# **About the Data**\n",
    "\n",
    "This dataset provides physicochemical information on red variants of the Portuguese \"Vinho Verde\" wine. The dataset is also available from the UCI machine learning repository, https://archive.ics.uci.edu/ml/datasets/wine+quality. \n",
    "\n",
    "Input variables (Features):\n",
    "- Fixed acidity\n",
    "- Volatile acidity\n",
    "- Citric acid\n",
    "- Residual sugar\n",
    "- Chlorides\n",
    "- Free sulfur dioxide\n",
    "- Total sulfur dioxide\n",
    "- Density\n",
    "- pH\n",
    "- Sulphates\n",
    "- Alcohol\n",
    "\n",
    "Output variable (Target):\n",
    "- Quality\n",
    "\n",
    "This dataset is licensed under a Creative Commons Attribution 4.0 International (CC BY 4.0) license. \n",
    "\n",
    "Cortez,Paulo, Cerdeira,A., Almeida,F., Matos,T., and Reis,J.. (2009). Wine Quality. UCI Machine Learning Repository. https://doi.org/10.24432/C56S3T."
   ]
  },
  {
   "cell_type": "markdown",
   "id": "295c990e",
   "metadata": {
    "papermill": {
     "duration": 0.017763,
     "end_time": "2023-06-13T19:47:17.623341",
     "exception": false,
     "start_time": "2023-06-13T19:47:17.605578",
     "status": "completed"
    },
    "tags": []
   },
   "source": [
    "<a id=\"set_up\"></a>\n",
    "# **Set Up / Cleaning**\n",
    "\n",
    "This section sets up the project. First, all necessary packages will be loaded in. Next, the data will be read in via URL. Lastly, the dataset will be cleaned by dropping any potential null values. ***PLEASE NOTE: The data will be further processed AFTER the analysis step in order to prepare it as a binary classification task. More specifically, the target variable 'quality' will be encoded as 'good' or 'bad'. Moreover, the data will also be scaled with a Standard Scaler.***"
   ]
  },
  {
   "cell_type": "code",
   "execution_count": 1,
   "id": "d4ecf2b5",
   "metadata": {
    "_execution_state": "idle",
    "_uuid": "051d70d956493feee0c6d64651c6a088724dca2a",
    "execution": {
     "iopub.execute_input": "2023-06-13T19:47:17.663109Z",
     "iopub.status.busy": "2023-06-13T19:47:17.662628Z",
     "iopub.status.idle": "2023-06-13T19:47:20.138313Z",
     "shell.execute_reply": "2023-06-13T19:47:20.136583Z"
    },
    "papermill": {
     "duration": 2.499825,
     "end_time": "2023-06-13T19:47:20.141687",
     "exception": false,
     "start_time": "2023-06-13T19:47:17.641862",
     "status": "completed"
    },
    "tags": []
   },
   "outputs": [],
   "source": [
    "# Loading necessary packages\n",
    "import pandas as pd\n",
    "import numpy as np\n",
    "import seaborn as sns\n",
    "import matplotlib.pyplot as plt\n",
    "import sklearn.tree\n",
    "import sklearn.linear_model\n",
    "import sklearn.metrics\n",
    "from sklearn.linear_model import LogisticRegression\n",
    "from sklearn.ensemble import RandomForestClassifier\n",
    "from sklearn.neighbors import KNeighborsClassifier\n",
    "from sklearn.svm import SVC\n",
    "from sklearn.metrics import accuracy_score, precision_score, recall_score, classification_report\n",
    "from sklearn.preprocessing import LabelEncoder, StandardScaler\n",
    "from sklearn.model_selection import train_test_split, GridSearchCV, cross_val_score"
   ]
  },
  {
   "cell_type": "code",
   "execution_count": 2,
   "id": "2e146311",
   "metadata": {
    "execution": {
     "iopub.execute_input": "2023-06-13T19:47:20.183056Z",
     "iopub.status.busy": "2023-06-13T19:47:20.182269Z",
     "iopub.status.idle": "2023-06-13T19:47:20.225683Z",
     "shell.execute_reply": "2023-06-13T19:47:20.224201Z"
    },
    "papermill": {
     "duration": 0.067904,
     "end_time": "2023-06-13T19:47:20.229173",
     "exception": false,
     "start_time": "2023-06-13T19:47:20.161269",
     "status": "completed"
    },
    "tags": []
   },
   "outputs": [],
   "source": [
    "# Reading in the data\n",
    "data = pd.read_csv('/kaggle/input/red-wine-quality-cortez-et-al-2009/winequality-red.csv')"
   ]
  },
  {
   "cell_type": "code",
   "execution_count": 3,
   "id": "59ca6372",
   "metadata": {
    "execution": {
     "iopub.execute_input": "2023-06-13T19:47:20.270432Z",
     "iopub.status.busy": "2023-06-13T19:47:20.269969Z",
     "iopub.status.idle": "2023-06-13T19:47:20.322003Z",
     "shell.execute_reply": "2023-06-13T19:47:20.320809Z"
    },
    "papermill": {
     "duration": 0.076121,
     "end_time": "2023-06-13T19:47:20.324921",
     "exception": false,
     "start_time": "2023-06-13T19:47:20.248800",
     "status": "completed"
    },
    "tags": []
   },
   "outputs": [
    {
     "data": {
      "text/html": [
       "<div>\n",
       "<style scoped>\n",
       "    .dataframe tbody tr th:only-of-type {\n",
       "        vertical-align: middle;\n",
       "    }\n",
       "\n",
       "    .dataframe tbody tr th {\n",
       "        vertical-align: top;\n",
       "    }\n",
       "\n",
       "    .dataframe thead th {\n",
       "        text-align: right;\n",
       "    }\n",
       "</style>\n",
       "<table border=\"1\" class=\"dataframe\">\n",
       "  <thead>\n",
       "    <tr style=\"text-align: right;\">\n",
       "      <th></th>\n",
       "      <th>fixed acidity</th>\n",
       "      <th>volatile acidity</th>\n",
       "      <th>citric acid</th>\n",
       "      <th>residual sugar</th>\n",
       "      <th>chlorides</th>\n",
       "      <th>free sulfur dioxide</th>\n",
       "      <th>total sulfur dioxide</th>\n",
       "      <th>density</th>\n",
       "      <th>pH</th>\n",
       "      <th>sulphates</th>\n",
       "      <th>alcohol</th>\n",
       "      <th>quality</th>\n",
       "    </tr>\n",
       "  </thead>\n",
       "  <tbody>\n",
       "    <tr>\n",
       "      <th>0</th>\n",
       "      <td>7.4</td>\n",
       "      <td>0.70</td>\n",
       "      <td>0.00</td>\n",
       "      <td>1.9</td>\n",
       "      <td>0.076</td>\n",
       "      <td>11.0</td>\n",
       "      <td>34.0</td>\n",
       "      <td>0.9978</td>\n",
       "      <td>3.51</td>\n",
       "      <td>0.56</td>\n",
       "      <td>9.4</td>\n",
       "      <td>5</td>\n",
       "    </tr>\n",
       "    <tr>\n",
       "      <th>1</th>\n",
       "      <td>7.8</td>\n",
       "      <td>0.88</td>\n",
       "      <td>0.00</td>\n",
       "      <td>2.6</td>\n",
       "      <td>0.098</td>\n",
       "      <td>25.0</td>\n",
       "      <td>67.0</td>\n",
       "      <td>0.9968</td>\n",
       "      <td>3.20</td>\n",
       "      <td>0.68</td>\n",
       "      <td>9.8</td>\n",
       "      <td>5</td>\n",
       "    </tr>\n",
       "    <tr>\n",
       "      <th>2</th>\n",
       "      <td>7.8</td>\n",
       "      <td>0.76</td>\n",
       "      <td>0.04</td>\n",
       "      <td>2.3</td>\n",
       "      <td>0.092</td>\n",
       "      <td>15.0</td>\n",
       "      <td>54.0</td>\n",
       "      <td>0.9970</td>\n",
       "      <td>3.26</td>\n",
       "      <td>0.65</td>\n",
       "      <td>9.8</td>\n",
       "      <td>5</td>\n",
       "    </tr>\n",
       "    <tr>\n",
       "      <th>3</th>\n",
       "      <td>11.2</td>\n",
       "      <td>0.28</td>\n",
       "      <td>0.56</td>\n",
       "      <td>1.9</td>\n",
       "      <td>0.075</td>\n",
       "      <td>17.0</td>\n",
       "      <td>60.0</td>\n",
       "      <td>0.9980</td>\n",
       "      <td>3.16</td>\n",
       "      <td>0.58</td>\n",
       "      <td>9.8</td>\n",
       "      <td>6</td>\n",
       "    </tr>\n",
       "    <tr>\n",
       "      <th>4</th>\n",
       "      <td>7.4</td>\n",
       "      <td>0.70</td>\n",
       "      <td>0.00</td>\n",
       "      <td>1.9</td>\n",
       "      <td>0.076</td>\n",
       "      <td>11.0</td>\n",
       "      <td>34.0</td>\n",
       "      <td>0.9978</td>\n",
       "      <td>3.51</td>\n",
       "      <td>0.56</td>\n",
       "      <td>9.4</td>\n",
       "      <td>5</td>\n",
       "    </tr>\n",
       "    <tr>\n",
       "      <th>5</th>\n",
       "      <td>7.4</td>\n",
       "      <td>0.66</td>\n",
       "      <td>0.00</td>\n",
       "      <td>1.8</td>\n",
       "      <td>0.075</td>\n",
       "      <td>13.0</td>\n",
       "      <td>40.0</td>\n",
       "      <td>0.9978</td>\n",
       "      <td>3.51</td>\n",
       "      <td>0.56</td>\n",
       "      <td>9.4</td>\n",
       "      <td>5</td>\n",
       "    </tr>\n",
       "    <tr>\n",
       "      <th>6</th>\n",
       "      <td>7.9</td>\n",
       "      <td>0.60</td>\n",
       "      <td>0.06</td>\n",
       "      <td>1.6</td>\n",
       "      <td>0.069</td>\n",
       "      <td>15.0</td>\n",
       "      <td>59.0</td>\n",
       "      <td>0.9964</td>\n",
       "      <td>3.30</td>\n",
       "      <td>0.46</td>\n",
       "      <td>9.4</td>\n",
       "      <td>5</td>\n",
       "    </tr>\n",
       "    <tr>\n",
       "      <th>7</th>\n",
       "      <td>7.3</td>\n",
       "      <td>0.65</td>\n",
       "      <td>0.00</td>\n",
       "      <td>1.2</td>\n",
       "      <td>0.065</td>\n",
       "      <td>15.0</td>\n",
       "      <td>21.0</td>\n",
       "      <td>0.9946</td>\n",
       "      <td>3.39</td>\n",
       "      <td>0.47</td>\n",
       "      <td>10.0</td>\n",
       "      <td>7</td>\n",
       "    </tr>\n",
       "    <tr>\n",
       "      <th>8</th>\n",
       "      <td>7.8</td>\n",
       "      <td>0.58</td>\n",
       "      <td>0.02</td>\n",
       "      <td>2.0</td>\n",
       "      <td>0.073</td>\n",
       "      <td>9.0</td>\n",
       "      <td>18.0</td>\n",
       "      <td>0.9968</td>\n",
       "      <td>3.36</td>\n",
       "      <td>0.57</td>\n",
       "      <td>9.5</td>\n",
       "      <td>7</td>\n",
       "    </tr>\n",
       "    <tr>\n",
       "      <th>9</th>\n",
       "      <td>7.5</td>\n",
       "      <td>0.50</td>\n",
       "      <td>0.36</td>\n",
       "      <td>6.1</td>\n",
       "      <td>0.071</td>\n",
       "      <td>17.0</td>\n",
       "      <td>102.0</td>\n",
       "      <td>0.9978</td>\n",
       "      <td>3.35</td>\n",
       "      <td>0.80</td>\n",
       "      <td>10.5</td>\n",
       "      <td>5</td>\n",
       "    </tr>\n",
       "  </tbody>\n",
       "</table>\n",
       "</div>"
      ],
      "text/plain": [
       "   fixed acidity  volatile acidity  citric acid  residual sugar  chlorides  \\\n",
       "0            7.4              0.70         0.00             1.9      0.076   \n",
       "1            7.8              0.88         0.00             2.6      0.098   \n",
       "2            7.8              0.76         0.04             2.3      0.092   \n",
       "3           11.2              0.28         0.56             1.9      0.075   \n",
       "4            7.4              0.70         0.00             1.9      0.076   \n",
       "5            7.4              0.66         0.00             1.8      0.075   \n",
       "6            7.9              0.60         0.06             1.6      0.069   \n",
       "7            7.3              0.65         0.00             1.2      0.065   \n",
       "8            7.8              0.58         0.02             2.0      0.073   \n",
       "9            7.5              0.50         0.36             6.1      0.071   \n",
       "\n",
       "   free sulfur dioxide  total sulfur dioxide  density    pH  sulphates  \\\n",
       "0                 11.0                  34.0   0.9978  3.51       0.56   \n",
       "1                 25.0                  67.0   0.9968  3.20       0.68   \n",
       "2                 15.0                  54.0   0.9970  3.26       0.65   \n",
       "3                 17.0                  60.0   0.9980  3.16       0.58   \n",
       "4                 11.0                  34.0   0.9978  3.51       0.56   \n",
       "5                 13.0                  40.0   0.9978  3.51       0.56   \n",
       "6                 15.0                  59.0   0.9964  3.30       0.46   \n",
       "7                 15.0                  21.0   0.9946  3.39       0.47   \n",
       "8                  9.0                  18.0   0.9968  3.36       0.57   \n",
       "9                 17.0                 102.0   0.9978  3.35       0.80   \n",
       "\n",
       "   alcohol  quality  \n",
       "0      9.4        5  \n",
       "1      9.8        5  \n",
       "2      9.8        5  \n",
       "3      9.8        6  \n",
       "4      9.4        5  \n",
       "5      9.4        5  \n",
       "6      9.4        5  \n",
       "7     10.0        7  \n",
       "8      9.5        7  \n",
       "9     10.5        5  "
      ]
     },
     "execution_count": 3,
     "metadata": {},
     "output_type": "execute_result"
    }
   ],
   "source": [
    "# Checking the data\n",
    "data.head(10)"
   ]
  },
  {
   "cell_type": "code",
   "execution_count": 4,
   "id": "cc63f05e",
   "metadata": {
    "execution": {
     "iopub.execute_input": "2023-06-13T19:47:20.366461Z",
     "iopub.status.busy": "2023-06-13T19:47:20.365443Z",
     "iopub.status.idle": "2023-06-13T19:47:20.399206Z",
     "shell.execute_reply": "2023-06-13T19:47:20.397979Z"
    },
    "papermill": {
     "duration": 0.057764,
     "end_time": "2023-06-13T19:47:20.401979",
     "exception": false,
     "start_time": "2023-06-13T19:47:20.344215",
     "status": "completed"
    },
    "tags": []
   },
   "outputs": [
    {
     "data": {
      "text/html": [
       "<div>\n",
       "<style scoped>\n",
       "    .dataframe tbody tr th:only-of-type {\n",
       "        vertical-align: middle;\n",
       "    }\n",
       "\n",
       "    .dataframe tbody tr th {\n",
       "        vertical-align: top;\n",
       "    }\n",
       "\n",
       "    .dataframe thead th {\n",
       "        text-align: right;\n",
       "    }\n",
       "</style>\n",
       "<table border=\"1\" class=\"dataframe\">\n",
       "  <thead>\n",
       "    <tr style=\"text-align: right;\">\n",
       "      <th></th>\n",
       "      <th>fixed acidity</th>\n",
       "      <th>volatile acidity</th>\n",
       "      <th>citric acid</th>\n",
       "      <th>residual sugar</th>\n",
       "      <th>chlorides</th>\n",
       "      <th>free sulfur dioxide</th>\n",
       "      <th>total sulfur dioxide</th>\n",
       "      <th>density</th>\n",
       "      <th>pH</th>\n",
       "      <th>sulphates</th>\n",
       "      <th>alcohol</th>\n",
       "      <th>quality</th>\n",
       "    </tr>\n",
       "  </thead>\n",
       "  <tbody>\n",
       "    <tr>\n",
       "      <th>0</th>\n",
       "      <td>7.4</td>\n",
       "      <td>0.700</td>\n",
       "      <td>0.00</td>\n",
       "      <td>1.9</td>\n",
       "      <td>0.076</td>\n",
       "      <td>11.0</td>\n",
       "      <td>34.0</td>\n",
       "      <td>0.99780</td>\n",
       "      <td>3.51</td>\n",
       "      <td>0.56</td>\n",
       "      <td>9.4</td>\n",
       "      <td>5</td>\n",
       "    </tr>\n",
       "    <tr>\n",
       "      <th>1</th>\n",
       "      <td>7.8</td>\n",
       "      <td>0.880</td>\n",
       "      <td>0.00</td>\n",
       "      <td>2.6</td>\n",
       "      <td>0.098</td>\n",
       "      <td>25.0</td>\n",
       "      <td>67.0</td>\n",
       "      <td>0.99680</td>\n",
       "      <td>3.20</td>\n",
       "      <td>0.68</td>\n",
       "      <td>9.8</td>\n",
       "      <td>5</td>\n",
       "    </tr>\n",
       "    <tr>\n",
       "      <th>2</th>\n",
       "      <td>7.8</td>\n",
       "      <td>0.760</td>\n",
       "      <td>0.04</td>\n",
       "      <td>2.3</td>\n",
       "      <td>0.092</td>\n",
       "      <td>15.0</td>\n",
       "      <td>54.0</td>\n",
       "      <td>0.99700</td>\n",
       "      <td>3.26</td>\n",
       "      <td>0.65</td>\n",
       "      <td>9.8</td>\n",
       "      <td>5</td>\n",
       "    </tr>\n",
       "    <tr>\n",
       "      <th>3</th>\n",
       "      <td>11.2</td>\n",
       "      <td>0.280</td>\n",
       "      <td>0.56</td>\n",
       "      <td>1.9</td>\n",
       "      <td>0.075</td>\n",
       "      <td>17.0</td>\n",
       "      <td>60.0</td>\n",
       "      <td>0.99800</td>\n",
       "      <td>3.16</td>\n",
       "      <td>0.58</td>\n",
       "      <td>9.8</td>\n",
       "      <td>6</td>\n",
       "    </tr>\n",
       "    <tr>\n",
       "      <th>4</th>\n",
       "      <td>7.4</td>\n",
       "      <td>0.700</td>\n",
       "      <td>0.00</td>\n",
       "      <td>1.9</td>\n",
       "      <td>0.076</td>\n",
       "      <td>11.0</td>\n",
       "      <td>34.0</td>\n",
       "      <td>0.99780</td>\n",
       "      <td>3.51</td>\n",
       "      <td>0.56</td>\n",
       "      <td>9.4</td>\n",
       "      <td>5</td>\n",
       "    </tr>\n",
       "    <tr>\n",
       "      <th>...</th>\n",
       "      <td>...</td>\n",
       "      <td>...</td>\n",
       "      <td>...</td>\n",
       "      <td>...</td>\n",
       "      <td>...</td>\n",
       "      <td>...</td>\n",
       "      <td>...</td>\n",
       "      <td>...</td>\n",
       "      <td>...</td>\n",
       "      <td>...</td>\n",
       "      <td>...</td>\n",
       "      <td>...</td>\n",
       "    </tr>\n",
       "    <tr>\n",
       "      <th>1594</th>\n",
       "      <td>6.2</td>\n",
       "      <td>0.600</td>\n",
       "      <td>0.08</td>\n",
       "      <td>2.0</td>\n",
       "      <td>0.090</td>\n",
       "      <td>32.0</td>\n",
       "      <td>44.0</td>\n",
       "      <td>0.99490</td>\n",
       "      <td>3.45</td>\n",
       "      <td>0.58</td>\n",
       "      <td>10.5</td>\n",
       "      <td>5</td>\n",
       "    </tr>\n",
       "    <tr>\n",
       "      <th>1595</th>\n",
       "      <td>5.9</td>\n",
       "      <td>0.550</td>\n",
       "      <td>0.10</td>\n",
       "      <td>2.2</td>\n",
       "      <td>0.062</td>\n",
       "      <td>39.0</td>\n",
       "      <td>51.0</td>\n",
       "      <td>0.99512</td>\n",
       "      <td>3.52</td>\n",
       "      <td>0.76</td>\n",
       "      <td>11.2</td>\n",
       "      <td>6</td>\n",
       "    </tr>\n",
       "    <tr>\n",
       "      <th>1596</th>\n",
       "      <td>6.3</td>\n",
       "      <td>0.510</td>\n",
       "      <td>0.13</td>\n",
       "      <td>2.3</td>\n",
       "      <td>0.076</td>\n",
       "      <td>29.0</td>\n",
       "      <td>40.0</td>\n",
       "      <td>0.99574</td>\n",
       "      <td>3.42</td>\n",
       "      <td>0.75</td>\n",
       "      <td>11.0</td>\n",
       "      <td>6</td>\n",
       "    </tr>\n",
       "    <tr>\n",
       "      <th>1597</th>\n",
       "      <td>5.9</td>\n",
       "      <td>0.645</td>\n",
       "      <td>0.12</td>\n",
       "      <td>2.0</td>\n",
       "      <td>0.075</td>\n",
       "      <td>32.0</td>\n",
       "      <td>44.0</td>\n",
       "      <td>0.99547</td>\n",
       "      <td>3.57</td>\n",
       "      <td>0.71</td>\n",
       "      <td>10.2</td>\n",
       "      <td>5</td>\n",
       "    </tr>\n",
       "    <tr>\n",
       "      <th>1598</th>\n",
       "      <td>6.0</td>\n",
       "      <td>0.310</td>\n",
       "      <td>0.47</td>\n",
       "      <td>3.6</td>\n",
       "      <td>0.067</td>\n",
       "      <td>18.0</td>\n",
       "      <td>42.0</td>\n",
       "      <td>0.99549</td>\n",
       "      <td>3.39</td>\n",
       "      <td>0.66</td>\n",
       "      <td>11.0</td>\n",
       "      <td>6</td>\n",
       "    </tr>\n",
       "  </tbody>\n",
       "</table>\n",
       "<p>1599 rows × 12 columns</p>\n",
       "</div>"
      ],
      "text/plain": [
       "      fixed acidity  volatile acidity  citric acid  residual sugar  chlorides  \\\n",
       "0               7.4             0.700         0.00             1.9      0.076   \n",
       "1               7.8             0.880         0.00             2.6      0.098   \n",
       "2               7.8             0.760         0.04             2.3      0.092   \n",
       "3              11.2             0.280         0.56             1.9      0.075   \n",
       "4               7.4             0.700         0.00             1.9      0.076   \n",
       "...             ...               ...          ...             ...        ...   \n",
       "1594            6.2             0.600         0.08             2.0      0.090   \n",
       "1595            5.9             0.550         0.10             2.2      0.062   \n",
       "1596            6.3             0.510         0.13             2.3      0.076   \n",
       "1597            5.9             0.645         0.12             2.0      0.075   \n",
       "1598            6.0             0.310         0.47             3.6      0.067   \n",
       "\n",
       "      free sulfur dioxide  total sulfur dioxide  density    pH  sulphates  \\\n",
       "0                    11.0                  34.0  0.99780  3.51       0.56   \n",
       "1                    25.0                  67.0  0.99680  3.20       0.68   \n",
       "2                    15.0                  54.0  0.99700  3.26       0.65   \n",
       "3                    17.0                  60.0  0.99800  3.16       0.58   \n",
       "4                    11.0                  34.0  0.99780  3.51       0.56   \n",
       "...                   ...                   ...      ...   ...        ...   \n",
       "1594                 32.0                  44.0  0.99490  3.45       0.58   \n",
       "1595                 39.0                  51.0  0.99512  3.52       0.76   \n",
       "1596                 29.0                  40.0  0.99574  3.42       0.75   \n",
       "1597                 32.0                  44.0  0.99547  3.57       0.71   \n",
       "1598                 18.0                  42.0  0.99549  3.39       0.66   \n",
       "\n",
       "      alcohol  quality  \n",
       "0         9.4        5  \n",
       "1         9.8        5  \n",
       "2         9.8        5  \n",
       "3         9.8        6  \n",
       "4         9.4        5  \n",
       "...       ...      ...  \n",
       "1594     10.5        5  \n",
       "1595     11.2        6  \n",
       "1596     11.0        6  \n",
       "1597     10.2        5  \n",
       "1598     11.0        6  \n",
       "\n",
       "[1599 rows x 12 columns]"
      ]
     },
     "execution_count": 4,
     "metadata": {},
     "output_type": "execute_result"
    }
   ],
   "source": [
    "# Dropping any potential null values\n",
    "data.dropna()"
   ]
  },
  {
   "cell_type": "code",
   "execution_count": 5,
   "id": "129266fb",
   "metadata": {
    "execution": {
     "iopub.execute_input": "2023-06-13T19:47:20.444694Z",
     "iopub.status.busy": "2023-06-13T19:47:20.443285Z",
     "iopub.status.idle": "2023-06-13T19:47:20.480582Z",
     "shell.execute_reply": "2023-06-13T19:47:20.478816Z"
    },
    "papermill": {
     "duration": 0.062895,
     "end_time": "2023-06-13T19:47:20.484517",
     "exception": false,
     "start_time": "2023-06-13T19:47:20.421622",
     "status": "completed"
    },
    "tags": []
   },
   "outputs": [
    {
     "name": "stdout",
     "output_type": "stream",
     "text": [
      "fixed acidity 0 0\n",
      "volatile acidity 0 0\n",
      "citric acid 0 0\n",
      "residual sugar 0 0\n",
      "chlorides 0 0\n",
      "free sulfur dioxide 0 0\n",
      "total sulfur dioxide 0 0\n",
      "density 0 0\n",
      "pH 0 0\n",
      "sulphates 0 0\n",
      "alcohol 0 0\n",
      "quality 0 0\n"
     ]
    }
   ],
   "source": [
    "# Checking for any remaining nulls\n",
    "a = [np.nan, None, [], {}, 'NaN', 'Null','NULL','None','NA','?','-', '.','', ' ', '   ']\n",
    "\n",
    "for c in data.columns:\n",
    "    string_null = np.array([x in a[2:] for x in data[c]])\n",
    "    print(c, data[c].isnull().sum(), string_null.sum())"
   ]
  },
  {
   "cell_type": "code",
   "execution_count": 6,
   "id": "5e98a8cd",
   "metadata": {
    "execution": {
     "iopub.execute_input": "2023-06-13T19:47:20.526066Z",
     "iopub.status.busy": "2023-06-13T19:47:20.525604Z",
     "iopub.status.idle": "2023-06-13T19:47:20.555232Z",
     "shell.execute_reply": "2023-06-13T19:47:20.552815Z"
    },
    "papermill": {
     "duration": 0.053992,
     "end_time": "2023-06-13T19:47:20.558366",
     "exception": false,
     "start_time": "2023-06-13T19:47:20.504374",
     "status": "completed"
    },
    "tags": []
   },
   "outputs": [
    {
     "name": "stdout",
     "output_type": "stream",
     "text": [
      "<class 'pandas.core.frame.DataFrame'>\n",
      "RangeIndex: 1599 entries, 0 to 1598\n",
      "Data columns (total 12 columns):\n",
      " #   Column                Non-Null Count  Dtype  \n",
      "---  ------                --------------  -----  \n",
      " 0   fixed acidity         1599 non-null   float64\n",
      " 1   volatile acidity      1599 non-null   float64\n",
      " 2   citric acid           1599 non-null   float64\n",
      " 3   residual sugar        1599 non-null   float64\n",
      " 4   chlorides             1599 non-null   float64\n",
      " 5   free sulfur dioxide   1599 non-null   float64\n",
      " 6   total sulfur dioxide  1599 non-null   float64\n",
      " 7   density               1599 non-null   float64\n",
      " 8   pH                    1599 non-null   float64\n",
      " 9   sulphates             1599 non-null   float64\n",
      " 10  alcohol               1599 non-null   float64\n",
      " 11  quality               1599 non-null   int64  \n",
      "dtypes: float64(11), int64(1)\n",
      "memory usage: 150.0 KB\n"
     ]
    }
   ],
   "source": [
    "# Checking data info\n",
    "data.info()"
   ]
  },
  {
   "cell_type": "markdown",
   "id": "53cf67e4",
   "metadata": {
    "papermill": {
     "duration": 0.019438,
     "end_time": "2023-06-13T19:47:20.598476",
     "exception": false,
     "start_time": "2023-06-13T19:47:20.579038",
     "status": "completed"
    },
    "tags": []
   },
   "source": [
    "The dataset now appears to have no null values. I have ensured that all potential nulls, such as 'NaN', 'Null', 'NULL', 'None', 'NA', '?', '-', '.', and '' have been removed. Now that the dataset appears to be cleaned, we can move onto the exploratory data analysis. "
   ]
  },
  {
   "cell_type": "markdown",
   "id": "6646f717",
   "metadata": {
    "papermill": {
     "duration": 0.019367,
     "end_time": "2023-06-13T19:47:20.637842",
     "exception": false,
     "start_time": "2023-06-13T19:47:20.618475",
     "status": "completed"
    },
    "tags": []
   },
   "source": [
    "<a id=\"eda\"></a>\n",
    "# **Exploratory Data Analysis**\n",
    "\n",
    "This section includes histograms, a correlation matrix as a heat map, and several bar plots. The histograms help us gain an understanding of the distribution of the data. The correlation matrix heat map identifies any potential significant relationships between single features and the target variable. The bar plots provide further visualization of any identified significant relationships. "
   ]
  },
  {
   "cell_type": "markdown",
   "id": "05229036",
   "metadata": {
    "papermill": {
     "duration": 0.01959,
     "end_time": "2023-06-13T19:47:20.677120",
     "exception": false,
     "start_time": "2023-06-13T19:47:20.657530",
     "status": "completed"
    },
    "tags": []
   },
   "source": [
    "<a id=\"hist\"></a>\n",
    "## Histograms"
   ]
  },
  {
   "cell_type": "code",
   "execution_count": 7,
   "id": "9d1eeb2a",
   "metadata": {
    "execution": {
     "iopub.execute_input": "2023-06-13T19:47:20.719627Z",
     "iopub.status.busy": "2023-06-13T19:47:20.718936Z",
     "iopub.status.idle": "2023-06-13T19:47:24.628233Z",
     "shell.execute_reply": "2023-06-13T19:47:24.626890Z"
    },
    "papermill": {
     "duration": 3.934197,
     "end_time": "2023-06-13T19:47:24.631201",
     "exception": false,
     "start_time": "2023-06-13T19:47:20.697004",
     "status": "completed"
    },
    "tags": []
   },
   "outputs": [
    {
     "data": {
      "image/png": "[encoded data removed]",
      "text/plain": [
       "<Figure size 640x480 with 1 Axes>"
      ]
     },
     "metadata": {},
     "output_type": "display_data"
    },
    {
     "data": {
      "image/png": "[encoded data removed]",
      "text/plain": [
       "<Figure size 640x480 with 1 Axes>"
      ]
     },
     "metadata": {},
     "output_type": "display_data"
    },
    {
     "data": {
      "image/png": "[encoded data removed]",
      "text/plain": [
       "<Figure size 640x480 with 1 Axes>"
      ]
     },
     "metadata": {},
     "output_type": "display_data"
    },
    {
     "data": {
      "image/png": "[encoded data removed]",
      "text/plain": [
       "<Figure size 640x480 with 1 Axes>"
      ]
     },
     "metadata": {},
     "output_type": "display_data"
    },
    {
     "data": {
      "image/png": "[encoded data removed]",
      "text/plain": [
       "<Figure size 640x480 with 1 Axes>"
      ]
     },
     "metadata": {},
     "output_type": "display_data"
    },
    {
     "data": {
      "image/png": "[encoded data removed]",
      "text/plain": [
       "<Figure size 640x480 with 1 Axes>"
      ]
     },
     "metadata": {},
     "output_type": "display_data"
    },
    {
     "data": {
      "image/png": "[encoded data removed]",
      "text/plain": [
       "<Figure size 640x480 with 1 Axes>"
      ]
     },
     "metadata": {},
     "output_type": "display_data"
    },
    {
     "data": {
      "image/png": "[encoded data removed]",
      "text/plain": [
       "<Figure size 640x480 with 1 Axes>"
      ]
     },
     "metadata": {},
     "output_type": "display_data"
    },
    {
     "data": {
      "image/png": "[encoded data removed]",
      "text/plain": [
       "<Figure size 640x480 with 1 Axes>"
      ]
     },
     "metadata": {},
     "output_type": "display_data"
    },
    {
     "data": {
      "image/png": "[encoded data removed]",
      "text/plain": [
       "<Figure size 640x480 with 1 Axes>"
      ]
     },
     "metadata": {},
     "output_type": "display_data"
    },
    {
     "data": {
      "image/png": "[encoded data removed]",
      "text/plain": [
       "<Figure size 640x480 with 1 Axes>"
      ]
     },
     "metadata": {},
     "output_type": "display_data"
    },
    {
     "data": {
      "image/png": "[encoded data removed]",
      "text/plain": [
       "<Figure size 640x480 with 1 Axes>"
      ]
     },
     "metadata": {},
     "output_type": "display_data"
    }
   ],
   "source": [
    "# Plotting histograms for each column\n",
    "for c in data:\n",
    "    data[c].hist()\n",
    "    plt.title(c)\n",
    "    plt.show()"
   ]
  },
  {
   "cell_type": "markdown",
   "id": "3a935137",
   "metadata": {
    "papermill": {
     "duration": 0.023557,
     "end_time": "2023-06-13T19:47:24.678558",
     "exception": false,
     "start_time": "2023-06-13T19:47:24.655001",
     "status": "completed"
    },
    "tags": []
   },
   "source": [
    "The histograms above give us a brief insight into the distribution of our feature and target variables. At a quick glance, it is clear that the target variable 'quality' is unbalanced. By viewing the histogram immediately above, one could assume that there are much more wines with a quality of 5 or 6 (average wines) than there are wines with extremely low or high quality scores. Apart from this, many of the feature variables, such as 'alcohol', 'pH', and 'density', have a more balanced distribution of values. Due to the inbalance of 'quality', we will create a threshold that separates the wines into 'good' and 'bad' categories. Doing this will enable our binary classification task. "
   ]
  },
  {
   "cell_type": "markdown",
   "id": "97f89eaf",
   "metadata": {
    "papermill": {
     "duration": 0.023307,
     "end_time": "2023-06-13T19:47:24.725658",
     "exception": false,
     "start_time": "2023-06-13T19:47:24.702351",
     "status": "completed"
    },
    "tags": []
   },
   "source": [
    "<a id=\"correlation_matrix\"></a>\n",
    "## Correlation Matrix"
   ]
  },
  {
   "cell_type": "code",
   "execution_count": 8,
   "id": "c5e2c8f0",
   "metadata": {
    "execution": {
     "iopub.execute_input": "2023-06-13T19:47:24.775539Z",
     "iopub.status.busy": "2023-06-13T19:47:24.775088Z",
     "iopub.status.idle": "2023-06-13T19:47:26.084417Z",
     "shell.execute_reply": "2023-06-13T19:47:26.083064Z"
    },
    "papermill": {
     "duration": 1.33924,
     "end_time": "2023-06-13T19:47:26.088672",
     "exception": false,
     "start_time": "2023-06-13T19:47:24.749432",
     "status": "completed"
    },
    "tags": []
   },
   "outputs": [
    {
     "data": {
      "text/plain": [
       "<Axes: >"
      ]
     },
     "execution_count": 8,
     "metadata": {},
     "output_type": "execute_result"
    },
    {
     "data": {
      "image/png": "[encoded data removed]",
      "text/plain": [
       "<Figure size 2000x1000 with 2 Axes>"
      ]
     },
     "metadata": {},
     "output_type": "display_data"
    }
   ],
   "source": [
    "# Creating a correlation matrix (as a heatmap) on the dataset\n",
    "matrix = data.corr()\n",
    "fig, ax = plt.subplots(figsize=(20,10))\n",
    "sns.heatmap(matrix, cmap = 'coolwarm', square = True, \n",
    "            annot = True, fmt = ',.2f',\n",
    "           annot_kws={'size':'x-small'}, linewidths = 0.5)"
   ]
  },
  {
   "cell_type": "markdown",
   "id": "cbc51c60",
   "metadata": {
    "papermill": {
     "duration": 0.026138,
     "end_time": "2023-06-13T19:47:26.142079",
     "exception": false,
     "start_time": "2023-06-13T19:47:26.115941",
     "status": "completed"
    },
    "tags": []
   },
   "source": [
    "The heatmap of the correlation matrix shows that 'alcohol' may be the best predictor of 'quality' (as a single feature variable without any interaction). The correlation between 'alcohol' and 'quality' is 0.48. While this correlation is definitely low, it is relatively higher than the correlations of all other features to 'quality'. On the other hand, the strongest inverse correlation to 'quality' is 'volatile acidity' at -0.39. This negative relationship should make sense, as a higher level of volatile acetic acid can create a wine with an unpleasant vinegar taste. It should also be noted that there are relatively strong correlations between several features. Notably, 'fixed acidity' has a 0.67 correlation to both 'density' and 'citric acid'. Moreoever, 'total sulfur dioxide' has a 0.67 correlation to 'free sulfur dioxide'. This relationship seems obvious, as a higher amount of free and bound forms (total) of sulfur dioxide would result in a higher amount of free sulfur dioxide. "
   ]
  },
  {
   "cell_type": "markdown",
   "id": "be4aa01c",
   "metadata": {
    "papermill": {
     "duration": 0.026247,
     "end_time": "2023-06-13T19:47:26.196418",
     "exception": false,
     "start_time": "2023-06-13T19:47:26.170171",
     "status": "completed"
    },
    "tags": []
   },
   "source": [
    "<a id=\"bar_plot\"></a>\n",
    "## Bar Plots"
   ]
  },
  {
   "cell_type": "code",
   "execution_count": 9,
   "id": "f1a8100d",
   "metadata": {
    "execution": {
     "iopub.execute_input": "2023-06-13T19:47:26.252453Z",
     "iopub.status.busy": "2023-06-13T19:47:26.251982Z",
     "iopub.status.idle": "2023-06-13T19:47:26.792411Z",
     "shell.execute_reply": "2023-06-13T19:47:26.790951Z"
    },
    "papermill": {
     "duration": 0.57171,
     "end_time": "2023-06-13T19:47:26.795306",
     "exception": false,
     "start_time": "2023-06-13T19:47:26.223596",
     "status": "completed"
    },
    "tags": []
   },
   "outputs": [
    {
     "data": {
      "text/plain": [
       "<Axes: xlabel='quality', ylabel='alcohol'>"
      ]
     },
     "execution_count": 9,
     "metadata": {},
     "output_type": "execute_result"
    },
    {
     "data": {
      "image/png": "[encoded data removed]",
      "text/plain": [
       "<Figure size 1000x600 with 1 Axes>"
      ]
     },
     "metadata": {},
     "output_type": "display_data"
    }
   ],
   "source": [
    "# Plotting the distribution of 'alcohol' vs 'quality'\n",
    "fig = plt.figure(figsize = (10,6))\n",
    "sns.barplot(x = 'quality', y = 'alcohol', data = data, palette = 'pastel')"
   ]
  },
  {
   "cell_type": "markdown",
   "id": "541ce95b",
   "metadata": {
    "papermill": {
     "duration": 0.026156,
     "end_time": "2023-06-13T19:47:26.848487",
     "exception": false,
     "start_time": "2023-06-13T19:47:26.822331",
     "status": "completed"
    },
    "tags": []
   },
   "source": [
    "The 0.48 correlation between 'alcohol' and 'quality' can be seen in the bar plot above. It appears that wines with the highest alcohol content tend to have the highest quality score. "
   ]
  },
  {
   "cell_type": "code",
   "execution_count": 10,
   "id": "0b220863",
   "metadata": {
    "execution": {
     "iopub.execute_input": "2023-06-13T19:47:26.903319Z",
     "iopub.status.busy": "2023-06-13T19:47:26.902867Z",
     "iopub.status.idle": "2023-06-13T19:47:27.421086Z",
     "shell.execute_reply": "2023-06-13T19:47:27.419928Z"
    },
    "papermill": {
     "duration": 0.549089,
     "end_time": "2023-06-13T19:47:27.423771",
     "exception": false,
     "start_time": "2023-06-13T19:47:26.874682",
     "status": "completed"
    },
    "tags": []
   },
   "outputs": [
    {
     "data": {
      "text/plain": [
       "<Axes: xlabel='quality', ylabel='volatile acidity'>"
      ]
     },
     "execution_count": 10,
     "metadata": {},
     "output_type": "execute_result"
    },
    {
     "data": {
      "image/png": "[encoded data removed]",
      "text/plain": [
       "<Figure size 1000x600 with 1 Axes>"
      ]
     },
     "metadata": {},
     "output_type": "display_data"
    }
   ],
   "source": [
    "# Plotting the distribution of 'volatile acidity' vs 'quality'\n",
    "fig = plt.figure(figsize = (10,6))\n",
    "sns.barplot(x = 'quality', y = 'volatile acidity', data = data, palette = 'pastel')"
   ]
  },
  {
   "cell_type": "markdown",
   "id": "d158d80d",
   "metadata": {
    "papermill": {
     "duration": 0.027982,
     "end_time": "2023-06-13T19:47:27.480834",
     "exception": false,
     "start_time": "2023-06-13T19:47:27.452852",
     "status": "completed"
    },
    "tags": []
   },
   "source": [
    "The negative relationship between 'quality' and 'volatile acidity' (-0.39) can be seen in the bar plot above. It is clear that wines with the lowest quality scores have the highest amounts of volatile acidity. Moreover, higher quality wines tend to have increasingly lower amounts of volatile acidity. "
   ]
  },
  {
   "cell_type": "markdown",
   "id": "1deaa5dd",
   "metadata": {
    "papermill": {
     "duration": 0.027377,
     "end_time": "2023-06-13T19:47:27.536234",
     "exception": false,
     "start_time": "2023-06-13T19:47:27.508857",
     "status": "completed"
    },
    "tags": []
   },
   "source": [
    "<a id=\"summary_analysis\"></a>\n",
    "## Summary of Analysis\n",
    "\n",
    "- Large number of 'average' wines (quality score of 5 and 6)\n",
    "- Small number of 'poor' and 'excellent' wines\n",
    "- Relatively strong correlation between 'alcohol' and 'quality' (0.48)\n",
    "- Relatively strong negative relationship between 'volatile acidity' and 'quality' (-0.39)\n",
    "- Strong correlation between 'fixed acidity' and 'density' (0.67)\n",
    "- Strong correlation between 'fixed acidity' and 'citric acid' (0.67)\n",
    "- Strong correlation between 'total sulfur dioxide' and 'free sulfur dioxide' (0.67)"
   ]
  },
  {
   "cell_type": "markdown",
   "id": "b5df055a",
   "metadata": {
    "papermill": {
     "duration": 0.027292,
     "end_time": "2023-06-13T19:47:27.591402",
     "exception": false,
     "start_time": "2023-06-13T19:47:27.564110",
     "status": "completed"
    },
    "tags": []
   },
   "source": [
    "<a id=\"ml\"></a>\n",
    "# **Applying Machine Learning**\n",
    "\n",
    "This section compares the performance of several machine learning models on predicting the quality of a wine given its features. The models used here include:\n",
    "- Logistic Regression\n",
    "- Random Forest Classifier\n",
    "- K-Nearest Neighbors Classifier\n",
    "- Support Vector Classifier"
   ]
  },
  {
   "cell_type": "markdown",
   "id": "1966283b",
   "metadata": {
    "papermill": {
     "duration": 0.026903,
     "end_time": "2023-06-13T19:47:27.645699",
     "exception": false,
     "start_time": "2023-06-13T19:47:27.618796",
     "status": "completed"
    },
    "tags": []
   },
   "source": [
    "<a id=\"processing\"></a>\n",
    "## Set Up\n",
    "\n",
    "As shown in the analysis phase, there is an inbalance of wine 'quality', with most wines having a score of 5 or 6 and few wines having an extremely low or high score. In order to create our binary classification task, I divide the target variable 'quality' into two groups: 'good' and 'bad'. Any wines under a quality score of 5.5 will be 'bad' and any wines over 5.5 will be 'good'."
   ]
  },
  {
   "cell_type": "code",
   "execution_count": 11,
   "id": "55faafcc",
   "metadata": {
    "execution": {
     "iopub.execute_input": "2023-06-13T19:47:27.703833Z",
     "iopub.status.busy": "2023-06-13T19:47:27.702791Z",
     "iopub.status.idle": "2023-06-13T19:47:27.711943Z",
     "shell.execute_reply": "2023-06-13T19:47:27.710556Z"
    },
    "papermill": {
     "duration": 0.041505,
     "end_time": "2023-06-13T19:47:27.714985",
     "exception": false,
     "start_time": "2023-06-13T19:47:27.673480",
     "status": "completed"
    },
    "tags": []
   },
   "outputs": [],
   "source": [
    "# Dividing 'quality' into 'good' and 'bad' groups\n",
    "bins = (1, 5.5, 10)\n",
    "group_names = ['bad', 'good']\n",
    "data['quality'] = pd.cut(data['quality'], bins = bins, labels = group_names)"
   ]
  },
  {
   "cell_type": "code",
   "execution_count": 12,
   "id": "0ce2636c",
   "metadata": {
    "execution": {
     "iopub.execute_input": "2023-06-13T19:47:27.771050Z",
     "iopub.status.busy": "2023-06-13T19:47:27.770578Z",
     "iopub.status.idle": "2023-06-13T19:47:27.778863Z",
     "shell.execute_reply": "2023-06-13T19:47:27.777820Z"
    },
    "papermill": {
     "duration": 0.038699,
     "end_time": "2023-06-13T19:47:27.781228",
     "exception": false,
     "start_time": "2023-06-13T19:47:27.742529",
     "status": "completed"
    },
    "tags": []
   },
   "outputs": [],
   "source": [
    "# Assigning labels to 'quality', 'bad' = 0, 'good' = 1\n",
    "quality_label = LabelEncoder()\n",
    "data['quality'] = quality_label.fit_transform(data['quality'])"
   ]
  },
  {
   "cell_type": "code",
   "execution_count": 13,
   "id": "5964b9df",
   "metadata": {
    "execution": {
     "iopub.execute_input": "2023-06-13T19:47:27.836662Z",
     "iopub.status.busy": "2023-06-13T19:47:27.835517Z",
     "iopub.status.idle": "2023-06-13T19:47:27.845351Z",
     "shell.execute_reply": "2023-06-13T19:47:27.844195Z"
    },
    "papermill": {
     "duration": 0.040113,
     "end_time": "2023-06-13T19:47:27.847653",
     "exception": false,
     "start_time": "2023-06-13T19:47:27.807540",
     "status": "completed"
    },
    "tags": []
   },
   "outputs": [
    {
     "data": {
      "text/plain": [
       "0    744\n",
       "1    855\n",
       "Name: quality, dtype: int64"
      ]
     },
     "execution_count": 13,
     "metadata": {},
     "output_type": "execute_result"
    }
   ],
   "source": [
    "# Viewing new counts of 'bad' and 'good' wines\n",
    "data['quality'].value_counts().sort_values()"
   ]
  },
  {
   "cell_type": "markdown",
   "id": "86d97f32",
   "metadata": {
    "papermill": {
     "duration": 0.026107,
     "end_time": "2023-06-13T19:47:27.900079",
     "exception": false,
     "start_time": "2023-06-13T19:47:27.873972",
     "status": "completed"
    },
    "tags": []
   },
   "source": [
    "By encoding the 'quantity' target variable, we have created a binary classification task. Now, roughly 53% of the wines are labeled as 'good'. We can now employ machine learning techniques to determine whether or not a wine's quality score will fall above or below the 5.5 threshold based upon its 11 features. "
   ]
  },
  {
   "cell_type": "code",
   "execution_count": 14,
   "id": "b4fce16a",
   "metadata": {
    "execution": {
     "iopub.execute_input": "2023-06-13T19:47:27.955960Z",
     "iopub.status.busy": "2023-06-13T19:47:27.955464Z",
     "iopub.status.idle": "2023-06-13T19:47:27.962618Z",
     "shell.execute_reply": "2023-06-13T19:47:27.961489Z"
    },
    "papermill": {
     "duration": 0.038496,
     "end_time": "2023-06-13T19:47:27.964902",
     "exception": false,
     "start_time": "2023-06-13T19:47:27.926406",
     "status": "completed"
    },
    "tags": []
   },
   "outputs": [],
   "source": [
    "# Separating the target and feature variables\n",
    "X = data.drop('quality', axis = 1)\n",
    "y = data['quality']"
   ]
  },
  {
   "cell_type": "code",
   "execution_count": 15,
   "id": "f6618fae",
   "metadata": {
    "execution": {
     "iopub.execute_input": "2023-06-13T19:47:28.021732Z",
     "iopub.status.busy": "2023-06-13T19:47:28.020992Z",
     "iopub.status.idle": "2023-06-13T19:47:28.028745Z",
     "shell.execute_reply": "2023-06-13T19:47:28.027811Z"
    },
    "papermill": {
     "duration": 0.039539,
     "end_time": "2023-06-13T19:47:28.031419",
     "exception": false,
     "start_time": "2023-06-13T19:47:27.991880",
     "status": "completed"
    },
    "tags": []
   },
   "outputs": [],
   "source": [
    "# Train Test Split, Test Size of 20%\n",
    "X_train, X_test, y_train, y_test = train_test_split(X, y, test_size = 0.2, random_state = 42)"
   ]
  },
  {
   "cell_type": "code",
   "execution_count": 16,
   "id": "943ea32c",
   "metadata": {
    "execution": {
     "iopub.execute_input": "2023-06-13T19:47:28.088899Z",
     "iopub.status.busy": "2023-06-13T19:47:28.087901Z",
     "iopub.status.idle": "2023-06-13T19:47:28.102421Z",
     "shell.execute_reply": "2023-06-13T19:47:28.101360Z"
    },
    "papermill": {
     "duration": 0.046704,
     "end_time": "2023-06-13T19:47:28.105285",
     "exception": false,
     "start_time": "2023-06-13T19:47:28.058581",
     "status": "completed"
    },
    "tags": []
   },
   "outputs": [],
   "source": [
    "# Scaling the data\n",
    "scaler = StandardScaler()\n",
    "X_train = scaler.fit_transform(X_train)\n",
    "X_test = scaler.fit_transform(X_test)"
   ]
  },
  {
   "cell_type": "markdown",
   "id": "8b1c4108",
   "metadata": {
    "papermill": {
     "duration": 0.027657,
     "end_time": "2023-06-13T19:47:28.160191",
     "exception": false,
     "start_time": "2023-06-13T19:47:28.132534",
     "status": "completed"
    },
    "tags": []
   },
   "source": [
    "<a id=\"logistic_regression\"></a>\n",
    "## Logistic Regression"
   ]
  },
  {
   "cell_type": "code",
   "execution_count": 17,
   "id": "76ad2725",
   "metadata": {
    "execution": {
     "iopub.execute_input": "2023-06-13T19:47:28.217219Z",
     "iopub.status.busy": "2023-06-13T19:47:28.216741Z",
     "iopub.status.idle": "2023-06-13T19:47:28.246891Z",
     "shell.execute_reply": "2023-06-13T19:47:28.245219Z"
    },
    "papermill": {
     "duration": 0.063871,
     "end_time": "2023-06-13T19:47:28.251437",
     "exception": false,
     "start_time": "2023-06-13T19:47:28.187566",
     "status": "completed"
    },
    "tags": []
   },
   "outputs": [],
   "source": [
    "# Fitting data into logistic regression model\n",
    "logreg = LogisticRegression()\n",
    "logreg.fit(X_train, y_train)\n",
    "pred_log = logreg.predict(X_test)"
   ]
  },
  {
   "cell_type": "code",
   "execution_count": 18,
   "id": "5c31cd92",
   "metadata": {
    "execution": {
     "iopub.execute_input": "2023-06-13T19:47:28.364271Z",
     "iopub.status.busy": "2023-06-13T19:47:28.363830Z",
     "iopub.status.idle": "2023-06-13T19:47:28.380505Z",
     "shell.execute_reply": "2023-06-13T19:47:28.379313Z"
    },
    "papermill": {
     "duration": 0.076904,
     "end_time": "2023-06-13T19:47:28.383302",
     "exception": false,
     "start_time": "2023-06-13T19:47:28.306398",
     "status": "completed"
    },
    "tags": []
   },
   "outputs": [
    {
     "name": "stdout",
     "output_type": "stream",
     "text": [
      "Accuracy:  0.7375\n",
      "Precision:  0.7950310559006211\n",
      "Recall:  0.7150837988826816\n"
     ]
    }
   ],
   "source": [
    "# Checking the scores of the logistic regression model\n",
    "accuracy = accuracy_score(y_test, pred_log)\n",
    "precision = precision_score(y_test, pred_log)\n",
    "recall = recall_score(y_test, pred_log)\n",
    "print(\"Accuracy: \", accuracy)\n",
    "print(\"Precision: \", precision)\n",
    "print(\"Recall: \", recall)"
   ]
  },
  {
   "cell_type": "code",
   "execution_count": 19,
   "id": "2825b673",
   "metadata": {
    "execution": {
     "iopub.execute_input": "2023-06-13T19:47:28.440034Z",
     "iopub.status.busy": "2023-06-13T19:47:28.439590Z",
     "iopub.status.idle": "2023-06-13T19:47:28.455193Z",
     "shell.execute_reply": "2023-06-13T19:47:28.453958Z"
    },
    "papermill": {
     "duration": 0.047707,
     "end_time": "2023-06-13T19:47:28.458197",
     "exception": false,
     "start_time": "2023-06-13T19:47:28.410490",
     "status": "completed"
    },
    "tags": []
   },
   "outputs": [
    {
     "name": "stdout",
     "output_type": "stream",
     "text": [
      "              precision    recall  f1-score   support\n",
      "\n",
      "           0       0.68      0.77      0.72       141\n",
      "           1       0.80      0.72      0.75       179\n",
      "\n",
      "    accuracy                           0.74       320\n",
      "   macro avg       0.74      0.74      0.74       320\n",
      "weighted avg       0.74      0.74      0.74       320\n",
      "\n"
     ]
    }
   ],
   "source": [
    "# Checking the overall report of the logistic regression model\n",
    "print(classification_report(y_test, pred_log))"
   ]
  },
  {
   "cell_type": "markdown",
   "id": "a1b10fc3",
   "metadata": {
    "papermill": {
     "duration": 0.027368,
     "end_time": "2023-06-13T19:47:28.512406",
     "exception": false,
     "start_time": "2023-06-13T19:47:28.485038",
     "status": "completed"
    },
    "tags": []
   },
   "source": [
    "**Logistic Regression Results**\n",
    "\n",
    "As shown above, the logistic regression model yields an accuracy of 73.8% and a precision of 79.5%. The model appears to have higher precision for predicting 'good' quality wines (80%) than for predicting 'bad' quality wines (68%)."
   ]
  },
  {
   "cell_type": "markdown",
   "id": "78e13d3f",
   "metadata": {
    "papermill": {
     "duration": 0.0268,
     "end_time": "2023-06-13T19:47:28.566027",
     "exception": false,
     "start_time": "2023-06-13T19:47:28.539227",
     "status": "completed"
    },
    "tags": []
   },
   "source": [
    "<a id=\"random_forest\"></a>\n",
    "## Random Forest"
   ]
  },
  {
   "cell_type": "code",
   "execution_count": 20,
   "id": "3e00ca2e",
   "metadata": {
    "execution": {
     "iopub.execute_input": "2023-06-13T19:47:28.624376Z",
     "iopub.status.busy": "2023-06-13T19:47:28.623593Z",
     "iopub.status.idle": "2023-06-13T19:47:29.089594Z",
     "shell.execute_reply": "2023-06-13T19:47:29.088312Z"
    },
    "papermill": {
     "duration": 0.499078,
     "end_time": "2023-06-13T19:47:29.092540",
     "exception": false,
     "start_time": "2023-06-13T19:47:28.593462",
     "status": "completed"
    },
    "tags": []
   },
   "outputs": [],
   "source": [
    "# Fitting data into random forest classifier\n",
    "randomforest = RandomForestClassifier()\n",
    "randomforest.fit(X_train, y_train)\n",
    "pred_randomforest = randomforest.predict(X_test)"
   ]
  },
  {
   "cell_type": "code",
   "execution_count": 21,
   "id": "69d6d4bc",
   "metadata": {
    "execution": {
     "iopub.execute_input": "2023-06-13T19:47:29.148985Z",
     "iopub.status.busy": "2023-06-13T19:47:29.148471Z",
     "iopub.status.idle": "2023-06-13T19:47:29.166176Z",
     "shell.execute_reply": "2023-06-13T19:47:29.164555Z"
    },
    "papermill": {
     "duration": 0.049181,
     "end_time": "2023-06-13T19:47:29.168834",
     "exception": false,
     "start_time": "2023-06-13T19:47:29.119653",
     "status": "completed"
    },
    "tags": []
   },
   "outputs": [
    {
     "name": "stdout",
     "output_type": "stream",
     "text": [
      "Accuracy:  0.771875\n",
      "Precision:  0.8154761904761905\n",
      "Recall:  0.7653631284916201\n"
     ]
    }
   ],
   "source": [
    "# Checking the scores of the random forest classifier\n",
    "accuracy = accuracy_score(y_test, pred_randomforest)\n",
    "precision = precision_score(y_test, pred_randomforest)\n",
    "recall = recall_score(y_test, pred_randomforest)\n",
    "print(\"Accuracy: \", accuracy)\n",
    "print(\"Precision: \", precision)\n",
    "print(\"Recall: \", recall)"
   ]
  },
  {
   "cell_type": "code",
   "execution_count": 22,
   "id": "d287cd8f",
   "metadata": {
    "execution": {
     "iopub.execute_input": "2023-06-13T19:47:29.225809Z",
     "iopub.status.busy": "2023-06-13T19:47:29.225299Z",
     "iopub.status.idle": "2023-06-13T19:47:29.241157Z",
     "shell.execute_reply": "2023-06-13T19:47:29.240271Z"
    },
    "papermill": {
     "duration": 0.048128,
     "end_time": "2023-06-13T19:47:29.243757",
     "exception": false,
     "start_time": "2023-06-13T19:47:29.195629",
     "status": "completed"
    },
    "tags": []
   },
   "outputs": [
    {
     "name": "stdout",
     "output_type": "stream",
     "text": [
      "              precision    recall  f1-score   support\n",
      "\n",
      "           0       0.72      0.78      0.75       141\n",
      "           1       0.82      0.77      0.79       179\n",
      "\n",
      "    accuracy                           0.77       320\n",
      "   macro avg       0.77      0.77      0.77       320\n",
      "weighted avg       0.78      0.77      0.77       320\n",
      "\n"
     ]
    }
   ],
   "source": [
    "# Checking the overall report of the random forest classifier\n",
    "print(classification_report(y_test, pred_randomforest))"
   ]
  },
  {
   "cell_type": "markdown",
   "id": "e45bb6fb",
   "metadata": {
    "papermill": {
     "duration": 0.027448,
     "end_time": "2023-06-13T19:47:29.298907",
     "exception": false,
     "start_time": "2023-06-13T19:47:29.271459",
     "status": "completed"
    },
    "tags": []
   },
   "source": [
    "**Random Forest Results**\n",
    "\n",
    "The random forest classifier has an accuracy of 76.9% and a precision of 81.4%. This classifier also has higher precision for 'good' quality wines (81%) compared to 'bad' quality wines (72%). The random forest classifier exhibits an overall increase in performance when compared to the logistic regression model. This random forest classifier will be improved later on by using grid search. "
   ]
  },
  {
   "cell_type": "markdown",
   "id": "528d17e1",
   "metadata": {
    "papermill": {
     "duration": 0.027404,
     "end_time": "2023-06-13T19:47:29.354136",
     "exception": false,
     "start_time": "2023-06-13T19:47:29.326732",
     "status": "completed"
    },
    "tags": []
   },
   "source": [
    "<a id=\"knn\"></a>\n",
    "## K-Nearest Neighbors (KNN)"
   ]
  },
  {
   "cell_type": "code",
   "execution_count": 23,
   "id": "690e33a4",
   "metadata": {
    "execution": {
     "iopub.execute_input": "2023-06-13T19:47:29.412081Z",
     "iopub.status.busy": "2023-06-13T19:47:29.411672Z",
     "iopub.status.idle": "2023-06-13T19:47:29.441157Z",
     "shell.execute_reply": "2023-06-13T19:47:29.440081Z"
    },
    "papermill": {
     "duration": 0.062098,
     "end_time": "2023-06-13T19:47:29.444257",
     "exception": false,
     "start_time": "2023-06-13T19:47:29.382159",
     "status": "completed"
    },
    "tags": []
   },
   "outputs": [],
   "source": [
    "# Fitting data into KNN classifier\n",
    "knn = KNeighborsClassifier(n_neighbors=3)\n",
    "knn.fit(X_train, y_train)\n",
    "pred_knn = knn.predict(X_test)"
   ]
  },
  {
   "cell_type": "code",
   "execution_count": 24,
   "id": "a1226ff4",
   "metadata": {
    "execution": {
     "iopub.execute_input": "2023-06-13T19:47:29.501571Z",
     "iopub.status.busy": "2023-06-13T19:47:29.501154Z",
     "iopub.status.idle": "2023-06-13T19:47:29.514009Z",
     "shell.execute_reply": "2023-06-13T19:47:29.512908Z"
    },
    "papermill": {
     "duration": 0.044538,
     "end_time": "2023-06-13T19:47:29.516595",
     "exception": false,
     "start_time": "2023-06-13T19:47:29.472057",
     "status": "completed"
    },
    "tags": []
   },
   "outputs": [
    {
     "name": "stdout",
     "output_type": "stream",
     "text": [
      "Accuracy:  0.73125\n",
      "Precision:  0.7409326424870466\n",
      "Recall:  0.7988826815642458\n"
     ]
    }
   ],
   "source": [
    "# Checking the scores of the KNN classifier\n",
    "accuracy = accuracy_score(y_test, pred_knn)\n",
    "precision = precision_score(y_test, pred_knn)\n",
    "recall = recall_score(y_test, pred_knn)\n",
    "print(\"Accuracy: \", accuracy)\n",
    "print(\"Precision: \", precision)\n",
    "print(\"Recall: \", recall)"
   ]
  },
  {
   "cell_type": "code",
   "execution_count": 25,
   "id": "e3bfd6b0",
   "metadata": {
    "execution": {
     "iopub.execute_input": "2023-06-13T19:47:29.573864Z",
     "iopub.status.busy": "2023-06-13T19:47:29.573392Z",
     "iopub.status.idle": "2023-06-13T19:47:29.588654Z",
     "shell.execute_reply": "2023-06-13T19:47:29.587357Z"
    },
    "papermill": {
     "duration": 0.047644,
     "end_time": "2023-06-13T19:47:29.591696",
     "exception": false,
     "start_time": "2023-06-13T19:47:29.544052",
     "status": "completed"
    },
    "tags": []
   },
   "outputs": [
    {
     "name": "stdout",
     "output_type": "stream",
     "text": [
      "              precision    recall  f1-score   support\n",
      "\n",
      "           0       0.72      0.65      0.68       141\n",
      "           1       0.74      0.80      0.77       179\n",
      "\n",
      "    accuracy                           0.73       320\n",
      "   macro avg       0.73      0.72      0.72       320\n",
      "weighted avg       0.73      0.73      0.73       320\n",
      "\n"
     ]
    }
   ],
   "source": [
    "# Checking the overall report of the KNN classifier\n",
    "print(classification_report(y_test, pred_knn))"
   ]
  },
  {
   "cell_type": "markdown",
   "id": "db4dd5d7",
   "metadata": {
    "papermill": {
     "duration": 0.028213,
     "end_time": "2023-06-13T19:47:29.649448",
     "exception": false,
     "start_time": "2023-06-13T19:47:29.621235",
     "status": "completed"
    },
    "tags": []
   },
   "source": [
    "**KNN Results**\n",
    "\n",
    "The KNN classifier yields an accuracy of 73.1% and a precision of 74.1%. This classifier's precision for 'good' and 'bad' wines is relatively similar (74% and 72%, respectively). So far, the KNN classifier has the worst accuracy and precision scores. This classifier will be improved later on by using cross validation."
   ]
  },
  {
   "cell_type": "markdown",
   "id": "0fffe545",
   "metadata": {
    "papermill": {
     "duration": 0.032217,
     "end_time": "2023-06-13T19:47:29.710068",
     "exception": false,
     "start_time": "2023-06-13T19:47:29.677851",
     "status": "completed"
    },
    "tags": []
   },
   "source": [
    "<a id=\"svc\"></a>\n",
    "## Support Vector Classifier (SVC)"
   ]
  },
  {
   "cell_type": "code",
   "execution_count": 26,
   "id": "bd5cd34d",
   "metadata": {
    "execution": {
     "iopub.execute_input": "2023-06-13T19:47:29.768530Z",
     "iopub.status.busy": "2023-06-13T19:47:29.767197Z",
     "iopub.status.idle": "2023-06-13T19:47:29.846770Z",
     "shell.execute_reply": "2023-06-13T19:47:29.845200Z"
    },
    "papermill": {
     "duration": 0.111668,
     "end_time": "2023-06-13T19:47:29.849990",
     "exception": false,
     "start_time": "2023-06-13T19:47:29.738322",
     "status": "completed"
    },
    "tags": []
   },
   "outputs": [],
   "source": [
    "# Fitting data into SVC classifier\n",
    "svc = SVC()\n",
    "svc.fit(X_train, y_train)\n",
    "pred_svc = svc.predict(X_test)"
   ]
  },
  {
   "cell_type": "code",
   "execution_count": 27,
   "id": "5db37271",
   "metadata": {
    "execution": {
     "iopub.execute_input": "2023-06-13T19:47:29.909554Z",
     "iopub.status.busy": "2023-06-13T19:47:29.909073Z",
     "iopub.status.idle": "2023-06-13T19:47:29.924408Z",
     "shell.execute_reply": "2023-06-13T19:47:29.923348Z"
    },
    "papermill": {
     "duration": 0.048641,
     "end_time": "2023-06-13T19:47:29.927414",
     "exception": false,
     "start_time": "2023-06-13T19:47:29.878773",
     "status": "completed"
    },
    "tags": []
   },
   "outputs": [
    {
     "name": "stdout",
     "output_type": "stream",
     "text": [
      "Accuracy:  0.765625\n",
      "Precision:  0.8095238095238095\n",
      "Recall:  0.7597765363128491\n"
     ]
    }
   ],
   "source": [
    "# Checking the scores of the SVC classifier\n",
    "accuracy = accuracy_score(y_test, pred_svc)\n",
    "precision = precision_score(y_test, pred_svc)\n",
    "recall = recall_score(y_test, pred_svc)\n",
    "print(\"Accuracy: \", accuracy)\n",
    "print(\"Precision: \", precision)\n",
    "print(\"Recall: \", recall)"
   ]
  },
  {
   "cell_type": "code",
   "execution_count": 28,
   "id": "cb4a3ffa",
   "metadata": {
    "execution": {
     "iopub.execute_input": "2023-06-13T19:47:29.987045Z",
     "iopub.status.busy": "2023-06-13T19:47:29.985918Z",
     "iopub.status.idle": "2023-06-13T19:47:30.002060Z",
     "shell.execute_reply": "2023-06-13T19:47:30.001081Z"
    },
    "papermill": {
     "duration": 0.048824,
     "end_time": "2023-06-13T19:47:30.004887",
     "exception": false,
     "start_time": "2023-06-13T19:47:29.956063",
     "status": "completed"
    },
    "tags": []
   },
   "outputs": [
    {
     "name": "stdout",
     "output_type": "stream",
     "text": [
      "              precision    recall  f1-score   support\n",
      "\n",
      "           0       0.72      0.77      0.74       141\n",
      "           1       0.81      0.76      0.78       179\n",
      "\n",
      "    accuracy                           0.77       320\n",
      "   macro avg       0.76      0.77      0.76       320\n",
      "weighted avg       0.77      0.77      0.77       320\n",
      "\n"
     ]
    }
   ],
   "source": [
    "# Checking the overall report of the SVC classifier\n",
    "print(classification_report(y_test, pred_svc))"
   ]
  },
  {
   "cell_type": "markdown",
   "id": "16c17861",
   "metadata": {
    "papermill": {
     "duration": 0.028355,
     "end_time": "2023-06-13T19:47:30.062447",
     "exception": false,
     "start_time": "2023-06-13T19:47:30.034092",
     "status": "completed"
    },
    "tags": []
   },
   "source": [
    "**SVC Results**\n",
    "\n",
    "The SVC classifier yields an accuracy of 76.6% and a precision of 81%. It exhibits a 72% precision for 'bad' wines and a 81% precision for 'good' wines. Overall, it is second best in performance, falling short behind the random forest classifier. This SVC classifier will also be improved by using grid search. "
   ]
  },
  {
   "cell_type": "markdown",
   "id": "f26f320c",
   "metadata": {
    "papermill": {
     "duration": 0.027998,
     "end_time": "2023-06-13T19:47:30.118783",
     "exception": false,
     "start_time": "2023-06-13T19:47:30.090785",
     "status": "completed"
    },
    "tags": []
   },
   "source": [
    "<a id=\"model_improvements\"></a>\n",
    "# **Model Improvements**\n",
    "\n",
    "This section improves the accuracy of the following models:\n",
    "- Random Forest Classifier\n",
    "- K-Nearest Neighbors Classifier\n",
    "- Support Vector Classifier"
   ]
  },
  {
   "cell_type": "markdown",
   "id": "4aca10f4",
   "metadata": {
    "papermill": {
     "duration": 0.031564,
     "end_time": "2023-06-13T19:47:30.178841",
     "exception": false,
     "start_time": "2023-06-13T19:47:30.147277",
     "status": "completed"
    },
    "tags": []
   },
   "source": [
    "<a id=\"random_cross\"></a>\n",
    "## Random Forest with GridSearchCV"
   ]
  },
  {
   "cell_type": "code",
   "execution_count": 29,
   "id": "50aa6ad7",
   "metadata": {
    "execution": {
     "iopub.execute_input": "2023-06-13T19:47:30.237676Z",
     "iopub.status.busy": "2023-06-13T19:47:30.236954Z",
     "iopub.status.idle": "2023-06-13T19:47:30.242266Z",
     "shell.execute_reply": "2023-06-13T19:47:30.241215Z"
    },
    "papermill": {
     "duration": 0.037848,
     "end_time": "2023-06-13T19:47:30.244954",
     "exception": false,
     "start_time": "2023-06-13T19:47:30.207106",
     "status": "completed"
    },
    "tags": []
   },
   "outputs": [],
   "source": [
    "# Creating param_grid\n",
    "param_grid = {'n_estimators': [25, 50, 100, 150],\n",
    "    'max_features': ['sqrt', 'log2', None],\n",
    "    'max_depth': [3, 6, 9],\n",
    "    'max_leaf_nodes': [3, 6, 9]}"
   ]
  },
  {
   "cell_type": "code",
   "execution_count": 30,
   "id": "a721a45a",
   "metadata": {
    "execution": {
     "iopub.execute_input": "2023-06-13T19:47:30.304171Z",
     "iopub.status.busy": "2023-06-13T19:47:30.303754Z",
     "iopub.status.idle": "2023-06-13T19:50:00.159867Z",
     "shell.execute_reply": "2023-06-13T19:50:00.158853Z"
    },
    "papermill": {
     "duration": 149.919997,
     "end_time": "2023-06-13T19:50:00.193264",
     "exception": false,
     "start_time": "2023-06-13T19:47:30.273267",
     "status": "completed"
    },
    "tags": []
   },
   "outputs": [
    {
     "name": "stdout",
     "output_type": "stream",
     "text": [
      "RandomForestClassifier(max_depth=9, max_features='log2', max_leaf_nodes=9)\n"
     ]
    }
   ],
   "source": [
    "# Use GridSearchCV to obtain best parameters\n",
    "grid_search = GridSearchCV(RandomForestClassifier(),\n",
    "                           param_grid=param_grid)\n",
    "grid_search.fit(X_train, y_train)\n",
    "print(grid_search.best_estimator_)"
   ]
  },
  {
   "cell_type": "code",
   "execution_count": 31,
   "id": "1765e72f",
   "metadata": {
    "execution": {
     "iopub.execute_input": "2023-06-13T19:50:00.257238Z",
     "iopub.status.busy": "2023-06-13T19:50:00.256475Z",
     "iopub.status.idle": "2023-06-13T19:50:00.441388Z",
     "shell.execute_reply": "2023-06-13T19:50:00.440092Z"
    },
    "papermill": {
     "duration": 0.220516,
     "end_time": "2023-06-13T19:50:00.444618",
     "exception": false,
     "start_time": "2023-06-13T19:50:00.224102",
     "status": "completed"
    },
    "tags": []
   },
   "outputs": [],
   "source": [
    "# Updating parameters of random forest model\n",
    "randomforest2 = RandomForestClassifier(max_depth=9, max_features='log2', max_leaf_nodes=9, n_estimators=50)\n",
    "randomforest2.fit(X_train, y_train)\n",
    "pred_randomforest2 = randomforest2.predict(X_test)"
   ]
  },
  {
   "cell_type": "code",
   "execution_count": 32,
   "id": "3066b5b9",
   "metadata": {
    "execution": {
     "iopub.execute_input": "2023-06-13T19:50:00.504808Z",
     "iopub.status.busy": "2023-06-13T19:50:00.504367Z",
     "iopub.status.idle": "2023-06-13T19:50:00.519347Z",
     "shell.execute_reply": "2023-06-13T19:50:00.518082Z"
    },
    "papermill": {
     "duration": 0.048172,
     "end_time": "2023-06-13T19:50:00.522282",
     "exception": false,
     "start_time": "2023-06-13T19:50:00.474110",
     "status": "completed"
    },
    "tags": []
   },
   "outputs": [
    {
     "name": "stdout",
     "output_type": "stream",
     "text": [
      "Accuracy:  0.73125\n",
      "Precision:  0.7751479289940828\n",
      "Recall:  0.7318435754189944\n"
     ]
    }
   ],
   "source": [
    "# Checking the scores of the tuned random forest model\n",
    "accuracy = accuracy_score(y_test, pred_randomforest2)\n",
    "precision = precision_score(y_test, pred_randomforest2)\n",
    "recall = recall_score(y_test, pred_randomforest2)\n",
    "print(\"Accuracy: \", accuracy)\n",
    "print(\"Precision: \", precision)\n",
    "print(\"Recall: \", recall)"
   ]
  },
  {
   "cell_type": "markdown",
   "id": "ee3f3201",
   "metadata": {
    "papermill": {
     "duration": 0.027897,
     "end_time": "2023-06-13T19:50:00.580104",
     "exception": false,
     "start_time": "2023-06-13T19:50:00.552207",
     "status": "completed"
    },
    "tags": []
   },
   "source": [
    "**Results**\n",
    "\n",
    "By using GridSearchCV the accuracy of the random forest model has decreased from 76.9% --> 72.5%. The precision has also decreased from 81.4% to 78.6%. Sometimes the default parameters for the random forest model are the best, even though the grid search provided us with particular parameter tuning. In this case, it may be best to rely on the default parameters."
   ]
  },
  {
   "cell_type": "markdown",
   "id": "a73d3d6b",
   "metadata": {
    "papermill": {
     "duration": 0.027294,
     "end_time": "2023-06-13T19:50:00.634977",
     "exception": false,
     "start_time": "2023-06-13T19:50:00.607683",
     "status": "completed"
    },
    "tags": []
   },
   "source": [
    "<a id=\"knn_cross\"></a>\n",
    "## KNN with Cross Validation"
   ]
  },
  {
   "cell_type": "code",
   "execution_count": 33,
   "id": "8dd6e34d",
   "metadata": {
    "execution": {
     "iopub.execute_input": "2023-06-13T19:50:00.693301Z",
     "iopub.status.busy": "2023-06-13T19:50:00.692343Z",
     "iopub.status.idle": "2023-06-13T19:50:04.025129Z",
     "shell.execute_reply": "2023-06-13T19:50:04.023810Z"
    },
    "papermill": {
     "duration": 3.365613,
     "end_time": "2023-06-13T19:50:04.028153",
     "exception": false,
     "start_time": "2023-06-13T19:50:00.662540",
     "status": "completed"
    },
    "tags": []
   },
   "outputs": [],
   "source": [
    "# Using cross validation on the KNN model\n",
    "k_values = [i for i in range (1,31)]\n",
    "scores = []\n",
    "\n",
    "for k in k_values:\n",
    "    knn = KNeighborsClassifier(n_neighbors=k)\n",
    "    score = cross_val_score(knn, X_train, y_train, cv=5)\n",
    "    scores.append(np.mean(score))"
   ]
  },
  {
   "cell_type": "code",
   "execution_count": 34,
   "id": "128827ef",
   "metadata": {
    "execution": {
     "iopub.execute_input": "2023-06-13T19:50:04.087009Z",
     "iopub.status.busy": "2023-06-13T19:50:04.086427Z",
     "iopub.status.idle": "2023-06-13T19:50:04.116200Z",
     "shell.execute_reply": "2023-06-13T19:50:04.114806Z"
    },
    "papermill": {
     "duration": 0.062843,
     "end_time": "2023-06-13T19:50:04.119162",
     "exception": false,
     "start_time": "2023-06-13T19:50:04.056319",
     "status": "completed"
    },
    "tags": []
   },
   "outputs": [],
   "source": [
    "# Training KNN model using the best k value\n",
    "best_index = np.argmax(scores)\n",
    "best_k = k_values[best_index]\n",
    "\n",
    "knn = KNeighborsClassifier(n_neighbors=best_k)\n",
    "knn.fit(X_train, y_train)\n",
    "knn_cross_pred = knn.predict(X_test)"
   ]
  },
  {
   "cell_type": "code",
   "execution_count": 35,
   "id": "f24b29dd",
   "metadata": {
    "execution": {
     "iopub.execute_input": "2023-06-13T19:50:04.176485Z",
     "iopub.status.busy": "2023-06-13T19:50:04.175736Z",
     "iopub.status.idle": "2023-06-13T19:50:04.189504Z",
     "shell.execute_reply": "2023-06-13T19:50:04.187791Z"
    },
    "papermill": {
     "duration": 0.045895,
     "end_time": "2023-06-13T19:50:04.192258",
     "exception": false,
     "start_time": "2023-06-13T19:50:04.146363",
     "status": "completed"
    },
    "tags": []
   },
   "outputs": [
    {
     "name": "stdout",
     "output_type": "stream",
     "text": [
      "Accuracy:  0.76875\n",
      "Precision:  0.7807486631016043\n",
      "Recall:  0.8156424581005587\n"
     ]
    }
   ],
   "source": [
    "# Checking the scores of the improved KNN classifier\n",
    "accuracy = accuracy_score(y_test, knn_cross_pred)\n",
    "precision = precision_score(y_test, knn_cross_pred)\n",
    "recall = recall_score(y_test, knn_cross_pred)\n",
    "print(\"Accuracy: \", accuracy)\n",
    "print(\"Precision: \", precision)\n",
    "print(\"Recall: \", recall)"
   ]
  },
  {
   "cell_type": "markdown",
   "id": "d56ab7c8",
   "metadata": {
    "papermill": {
     "duration": 0.027933,
     "end_time": "2023-06-13T19:50:04.248471",
     "exception": false,
     "start_time": "2023-06-13T19:50:04.220538",
     "status": "completed"
    },
    "tags": []
   },
   "source": [
    "**Results**\n",
    "\n",
    "By using cross validation to determine the ideal k value, the KNN model has improved its accuracy from 73.1% --> 76.9% and has improved its precision from 74.1% --> 78.1%."
   ]
  },
  {
   "cell_type": "markdown",
   "id": "45b66065",
   "metadata": {
    "papermill": {
     "duration": 0.028721,
     "end_time": "2023-06-13T19:50:04.306698",
     "exception": false,
     "start_time": "2023-06-13T19:50:04.277977",
     "status": "completed"
    },
    "tags": []
   },
   "source": [
    "<a id=\"grid_search\"></a>\n",
    "## SVC with GridSearchCV"
   ]
  },
  {
   "cell_type": "code",
   "execution_count": 36,
   "id": "ed6402e3",
   "metadata": {
    "execution": {
     "iopub.execute_input": "2023-06-13T19:50:04.366013Z",
     "iopub.status.busy": "2023-06-13T19:50:04.365174Z",
     "iopub.status.idle": "2023-06-13T19:50:14.315923Z",
     "shell.execute_reply": "2023-06-13T19:50:14.314766Z"
    },
    "papermill": {
     "duration": 9.983891,
     "end_time": "2023-06-13T19:50:14.318733",
     "exception": false,
     "start_time": "2023-06-13T19:50:04.334842",
     "status": "completed"
    },
    "tags": []
   },
   "outputs": [],
   "source": [
    "# Fitting the model to grid\n",
    "param_grid = {'C': [0.1, 1, 10, 100, 1000], \n",
    "              'gamma': [1, 0.1, 0.01, 0.001, 0.0001],\n",
    "              'kernel': ['rbf']} \n",
    "  \n",
    "svc_grid = GridSearchCV(SVC(), param_grid, refit = True)\n",
    "svc_grid.fit(X_train, y_train)\n",
    "grid_pred = svc_grid.predict(X_test)"
   ]
  },
  {
   "cell_type": "code",
   "execution_count": 37,
   "id": "4cea64d6",
   "metadata": {
    "execution": {
     "iopub.execute_input": "2023-06-13T19:50:14.376397Z",
     "iopub.status.busy": "2023-06-13T19:50:14.375880Z",
     "iopub.status.idle": "2023-06-13T19:50:14.390631Z",
     "shell.execute_reply": "2023-06-13T19:50:14.389113Z"
    },
    "papermill": {
     "duration": 0.046235,
     "end_time": "2023-06-13T19:50:14.392905",
     "exception": false,
     "start_time": "2023-06-13T19:50:14.346670",
     "status": "completed"
    },
    "tags": []
   },
   "outputs": [
    {
     "name": "stdout",
     "output_type": "stream",
     "text": [
      "Accuracy:  0.771875\n",
      "Precision:  0.8154761904761905\n",
      "Recall:  0.7653631284916201\n"
     ]
    }
   ],
   "source": [
    "# Checking the scores of the improved SVC\n",
    "accuracy = accuracy_score(y_test, grid_pred)\n",
    "precision = precision_score(y_test, grid_pred)\n",
    "recall = recall_score(y_test, grid_pred)\n",
    "print(\"Accuracy: \", accuracy)\n",
    "print(\"Precision: \", precision)\n",
    "print(\"Recall: \", recall)"
   ]
  },
  {
   "cell_type": "markdown",
   "id": "ef46bea9",
   "metadata": {
    "papermill": {
     "duration": 0.027867,
     "end_time": "2023-06-13T19:50:14.449615",
     "exception": false,
     "start_time": "2023-06-13T19:50:14.421748",
     "status": "completed"
    },
    "tags": []
   },
   "source": [
    "**Results**\n",
    "\n",
    "By using GridSearchCV, the accuracy of the SVC model has improved from 76.6% --> 77.2% and the precision has improved from 81% --> 81.5%. "
   ]
  },
  {
   "cell_type": "markdown",
   "id": "a5afba31",
   "metadata": {
    "papermill": {
     "duration": 0.029195,
     "end_time": "2023-06-13T19:50:14.507064",
     "exception": false,
     "start_time": "2023-06-13T19:50:14.477869",
     "status": "completed"
    },
    "tags": []
   },
   "source": [
    "<a id=\"conclusion\"></a>\n",
    "# **Conclusion**\n",
    "\n",
    "From the work above, we can rank the best machine learning models for this binary classification task. \n",
    "\n",
    "Accuracy:\n",
    "- SVC with GridSearchCV --> 77.2%\n",
    "- KNN with Cross Validation --> 76.9%\n",
    "- Random Forest --> 76.9%\n",
    "- SVC --> 76.6%\n",
    "- Logistic Regression --> 73.75%\n",
    "- KNN --> 73.1%\n",
    "- Random Forest with GridSearchCV --> 72.5%\n",
    "\n",
    "Precision:\n",
    "- SVC with GridSearchCV --> 81.5%\n",
    "- Random Forest --> 81.4%\n",
    "- SVC --> 81%\n",
    "- Logistic Regression --> 79.5%\n",
    "- Random Forest with GridSearchCV --> 78.6%\n",
    "- KNN with Cross Validation --> 78.1%\n",
    "- KNN --> 74.1%\n",
    "\n",
    "These rankings suggest that SVC with GridSearchCV performs the best for this particular task. However, there is not much significant difference between the accuracies and precisions of these models. As this dataset was found on Kaggle, I was able to look at other, yet different, attempts of this binary classification task. Some of these works divided the 'quality' variable at different thresholds. For future work, it would be interesting to see how these models would perform if the threshold determining 'good' vs 'bad' wine was increased or decreased. \n"
   ]
  },
  {
   "cell_type": "markdown",
   "id": "05303cbe",
   "metadata": {
    "papermill": {
     "duration": 0.028251,
     "end_time": "2023-06-13T19:50:14.564704",
     "exception": false,
     "start_time": "2023-06-13T19:50:14.536453",
     "status": "completed"
    },
    "tags": []
   },
   "source": [
    "<a id=\"thanks\"></a>\n",
    "# **Thank You!**\n",
    "\n",
    "Thanks for taking the time to look over this project! This project was completed as part of the CU Boulder Introduction to Machine Learning: Supervised Learning course final. I welcome any constructive feedback! In you are viewing this on Kaggle, please leave an upvote! :) "
   ]
  }
 ],
 "metadata": {
  "kernelspec": {
   "display_name": "Python 3",
   "language": "python",
   "name": "python3"
  },
  "language_info": {
   "codemirror_mode": {
    "name": "ipython",
    "version": 3
   },
   "file_extension": ".py",
   "mimetype": "text/x-python",
   "name": "python",
   "nbconvert_exporter": "python",
   "pygments_lexer": "ipython3",
   "version": "3.10.10"
  },
  "papermill": {
   "default_parameters": {},
   "duration": 192.728877,
   "end_time": "2023-06-13T19:50:16.220638",
   "environment_variables": {},
   "exception": null,
   "input_path": "__notebook__.ipynb",
   "output_path": "__notebook__.ipynb",
   "parameters": {},
   "start_time": "2023-06-13T19:47:03.491761",
   "version": "2.4.0"
  }
 },
 "nbformat": 4,
 "nbformat_minor": 5
}
